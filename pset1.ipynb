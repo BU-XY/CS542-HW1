{
 "cells": [
  {
   "cell_type": "markdown",
   "metadata": {},
   "source": [
    "# Problem Set 1: Linear Regression\n",
    "\n",
    "To run and solve this assignment, one must have a working IPython Notebook installation. The easiest way to set it up for both Windows and Linux is to install [Anaconda](https://www.continuum.io/downloads). Then save this file to your computer, run Anaconda and choose this file in Anaconda's file explorer. Use `Python 3` version. The statements below assume that you have already followed these instructions. If you are new to Python or its scientific library, Numpy, there are some nice tutorials [here](https://www.learnpython.org/) and [here](http://www.scipy-lectures.org/).\n",
    "\n",
    "To run code in a cell or to render [Markdown](https://en.wikipedia.org/wiki/Markdown)+[LaTeX](https://en.wikipedia.org/wiki/LaTeX) press `Ctr+Enter` or `[>|]`(like \"play\") button above. To edit any code or text cell double click on its content. To change cell type, choose \"Markdown\" or \"Code\" in the drop-down menu above. Here are some useful resources for [Markdown guide](https://www.markdownguide.org/basic-syntax/) and [LaTeX tutorial](https://www.overleaf.com/learn/latex/Learn_LaTeX_in_30_minutes) if you are not familiar with the basic syntax.\n",
    "\n",
    "If certain output is given for some cells, that means that you are expected to get similar results.\n",
    "\n",
    "We need to submit both PDF file and notebook for ps1 submission. To print this notebook to a pdf file, you can go to \"File\" -> \"Download as\" -> \"PDF via LaTex(.pdf)\" or simply use \"print\" in browser. \n",
    "\n",
    "Total: 185 points."
   ]
  },
  {
   "cell_type": "markdown",
   "metadata": {},
   "source": [
    "### 1. Numpy Tutorial\n",
    "**1\\.1 [5pt]**\n",
    "Modify the cell below to return a 5x5 matrix of ones. Put some code there and press `Ctrl+Enter` to execute contents of the cell. You should see something like the output above. [[1]](https://docs.scipy.org/doc/numpy-1.13.0/user/basics.creation.html#arrays-creation) [[2]](https://docs.scipy.org/doc/numpy-1.13.0/reference/routines.array-creation.html#routines-array-creation)"
   ]
  },
  {
   "cell_type": "code",
   "execution_count": 84,
   "metadata": {
    "collapsed": false,
    "jupyter": {
     "outputs_hidden": false
    }
   },
   "outputs": [
    {
     "name": "stdout",
     "output_type": "stream",
     "text": [
      "[[1. 1. 1. 1. 1.]\n",
      " [1. 1. 1. 1. 1.]\n",
      " [1. 1. 1. 1. 1.]\n",
      " [1. 1. 1. 1. 1.]\n",
      " [1. 1. 1. 1. 1.]]\n"
     ]
    }
   ],
   "source": [
    "import numpy as np\n",
    "\n",
    "print(np.ones((5, 5)))"
   ]
  },
  {
   "cell_type": "markdown",
   "metadata": {},
   "source": [
    "**1.2 [5pt]** \n",
    "Vectorizing your code is very important to get results in a reasonable time. Let A be a 10x10 matrix and x be a 10-element column vector. Your friend writes the following code. How would you vectorize this code to run without any for loops? Compare execution speed for different values of `n` with [`%timeit`](http://ipython.readthedocs.io/en/stable/interactive/magics.html#magic-timeit)."
   ]
  },
  {
   "cell_type": "code",
   "execution_count": 85,
   "metadata": {
    "collapsed": false,
    "jupyter": {
     "outputs_hidden": false
    }
   },
   "outputs": [
    {
     "name": "stdout",
     "output_type": "stream",
     "text": [
      "[[2.51624643]\n",
      " [3.41612002]\n",
      " [2.30834116]\n",
      " [2.94955738]\n",
      " [2.54886856]\n",
      " [3.71145733]\n",
      " [2.7035952 ]\n",
      " [2.83821337]\n",
      " [3.40461004]\n",
      " [3.78141502]]\n"
     ]
    }
   ],
   "source": [
    "n = 10\n",
    "def compute_something(A, x):\n",
    "    v = np.zeros((n, 1))\n",
    "    for i in range(n):\n",
    "        for j in range(n):\n",
    "            v[i] += A[i, j] * x[j]\n",
    "    return v\n",
    "            \n",
    "A = np.random.rand(n, n)\n",
    "x = np.random.rand(n, 1)\n",
    "print(compute_something(A, x))"
   ]
  },
  {
   "cell_type": "code",
   "execution_count": 86,
   "metadata": {
    "collapsed": false,
    "jupyter": {
     "outputs_hidden": false
    }
   },
   "outputs": [
    {
     "name": "stdout",
     "output_type": "stream",
     "text": [
      "[[2.51624643]\n",
      " [3.41612002]\n",
      " [2.30834116]\n",
      " [2.94955738]\n",
      " [2.54886856]\n",
      " [3.71145733]\n",
      " [2.7035952 ]\n",
      " [2.83821337]\n",
      " [3.40461004]\n",
      " [3.78141502]]\n"
     ]
    }
   ],
   "source": [
    "def vectorized(A, x):\n",
    "    return A @ x\n",
    "\n",
    "print(vectorized(A, x))\n",
    "assert np.max(abs(vectorized(A, x) - compute_something(A, x))) < 1e-3"
   ]
  },
  {
   "cell_type": "code",
   "execution_count": 87,
   "metadata": {
    "collapsed": false,
    "jupyter": {
     "outputs_hidden": false
    }
   },
   "outputs": [
    {
     "name": "stdout",
     "output_type": "stream",
     "text": [
      "66.1 µs ± 2.22 µs per loop (mean ± std. dev. of 7 runs, 5 loops each)\n",
      "1.57 µs ± 1.01 µs per loop (mean ± std. dev. of 7 runs, 5 loops each)\n",
      "---\n",
      "261 µs ± 7.76 µs per loop (mean ± std. dev. of 7 runs, 5 loops each)\n",
      "1.65 µs ± 1.17 µs per loop (mean ± std. dev. of 7 runs, 5 loops each)\n",
      "---\n",
      "27.2 ms ± 959 µs per loop (mean ± std. dev. of 7 runs, 5 loops each)\n",
      "The slowest run took 38.62 times longer than the fastest. This could mean that an intermediate result is being cached.\n",
      "518 µs ± 1.05 ms per loop (mean ± std. dev. of 7 runs, 5 loops each)\n",
      "---\n",
      "672 ms ± 15.7 ms per loop (mean ± std. dev. of 7 runs, 5 loops each)\n",
      "The slowest run took 5.18 times longer than the fastest. This could mean that an intermediate result is being cached.\n",
      "153 µs ± 120 µs per loop (mean ± std. dev. of 7 runs, 5 loops each)\n",
      "---\n"
     ]
    }
   ],
   "source": [
    "for n in [5, 10, 100, 500]:\n",
    "    A = np.random.rand(n, n)\n",
    "    x = np.random.rand(n, 1)\n",
    "    %timeit -n 5 compute_something(A, x)\n",
    "    %timeit -n 5 vectorized(A, x)\n",
    "    print('---')"
   ]
  },
  {
   "cell_type": "markdown",
   "metadata": {},
   "source": [
    "### 2. Linear regression with one variable\n",
    "\n",
    "In this part of this exercise, you will implement linear regression with one variable to predict profits for a food truck. Suppose you are the CEO of a restaurant franchise and are considering different cities for opening a new outlet. The chain already has trucks in various cities and you have data for profits and populations from the cities. You would like to use this data to help you select which city to expand to next. The file ex1data.txt contains the dataset for our linear regression problem. The first column is the population of a city and the second column is the profit of a food truck in that city. A negative value for profit indicates a loss.\n",
    "\n",
    "**2.1 [10pt]** Get a plot similar to below\n",
    ": [[1]](https://matplotlib.org/devdocs/api/_as_gen/matplotlib.pyplot.scatter.html) [[2]](https://matplotlib.org/api/pyplot_api.html?highlight=xlim#matplotlib.pyplot.xlim) [[3]](https://matplotlib.org/api/pyplot_api.html?highlight=matplotlib%20pyplot%20xlabel#matplotlib.pyplot.xlabel)\n",
    "\n",
    "Before starting on any task, it is often useful to understand the data by visualizing it. For this dataset, you can use a scatter plot to visualize the data, since it has only two properties to plot (profit and population). Many other problems that you will encounter in real life are multi-dimensional and can’t be plotted on a 2-d plot."
   ]
  },
  {
   "cell_type": "code",
   "execution_count": 88,
   "metadata": {
    "collapsed": false,
    "jupyter": {
     "outputs_hidden": false
    }
   },
   "outputs": [
    {
     "name": "stdout",
     "output_type": "stream",
     "text": [
      "(97, 1) (97, 1) 97\n",
      "[[6.1101]\n",
      " [5.5277]\n",
      " [8.5186]\n",
      " [7.0032]\n",
      " [5.8598]\n",
      " [8.3829]\n",
      " [7.4764]\n",
      " [8.5781]\n",
      " [6.4862]\n",
      " [5.0546]] \n",
      " [[17.592 ]\n",
      " [ 9.1302]\n",
      " [13.662 ]\n",
      " [11.854 ]\n",
      " [ 6.8233]\n",
      " [11.886 ]\n",
      " [ 4.3483]\n",
      " [12.    ]\n",
      " [ 6.5987]\n",
      " [ 3.8166]]\n"
     ]
    },
    {
     "data": {
      "image/png": "[encoded data removed]",
      "text/plain": [
       "<Figure size 640x480 with 1 Axes>"
      ]
     },
     "metadata": {},
     "output_type": "display_data"
    }
   ],
   "source": [
    "import numpy as np\n",
    "import matplotlib.pyplot as plt\n",
    "\n",
    "data = np.loadtxt('ex1data1.txt', delimiter=',')\n",
    "X, y = data[:, 0, np.newaxis], data[:, 1, np.newaxis]\n",
    "n = data.shape[0]\n",
    "print(X.shape, y.shape, n)\n",
    "print(X[:10], '\\n', y[:10])\n",
    "\n",
    "plt.scatter(X, y, marker='*')\n",
    "plt.xlim(4, 23)\n",
    "\n",
    "plt.show()"
   ]
  },
  {
   "cell_type": "markdown",
   "metadata": {},
   "source": [
    "**2.2** Gradient Descent\n",
    "\n",
    "In this part, you will fit the linear regression parameter $\\theta$ to our dataset using gradient descent.\n",
    "\n",
    "The objective of linear regression is to minimize the cost function\n",
    "$$ J(\\theta) = \\frac{1}{2m} \\sum_{i = 1}^{m} \\big(h(x^{(i)}; \\theta) - y^{(i)}\\big)^2$$\n",
    "where the hypothesis $h(x;\\theta)$ is given by the linear model ($x'$ has an additional fake feature always equal to '`1`')\n",
    "$$ h(x;\\theta) = \\theta^T x' = \\theta_0 + \\theta_1 x$$\n",
    "\n",
    "Recall that the parameters of your model are the $\\theta_j$ values. These are the values you will adjust to minimize cost J(θ). One way to do this is to use the gradient descent\n",
    "algorithm. In batch gradient descent algorithm, each iteration performs the update.\n",
    "\n",
    "$$ \\theta_j^{(k+1)} = \\theta_j^{(k)} - \\eta \\frac{1}{m} \\sum_i \\big(h(x^{(i)}; \\theta) - y^{(i)}\\big) x^{(i)}_j $$\n",
    "With each step of gradient descent, your parameter $\\theta_j$ come closer to the optimal values\n",
    "that will achieve the lowest cost J(θ).\n",
    "\n",
    "**2.2.1** **[5pt]** Where does this update rule comes from?\n",
    "\n",
    "**2.2.2** **[30pt]** Cost Implementation\n",
    "\n",
    "As you perform gradient descent to learn to minimize the cost function, it is helpful to monitor the convergence by computing the cost. In this section, you will implement a function to calculate $J(\\theta)$ so you can check the convergence of your gradient descent implementation.\n",
    "\n",
    "In the following lines, we add another dimension to our data to accommodate the intercept term and compute the prediction and the loss. As you are doing this, remember that the variables X and y are not scalar values, but matrices whose rows represent the examples from the training set. In order to get $x'$ [add a column](https://docs.scipy.org/doc/numpy/reference/generated/numpy.insert.html) of ones to the data matrix `X`.\n",
    "\n",
    "You should expect to see a cost of approximately 32."
   ]
  },
  {
   "cell_type": "code",
   "execution_count": 89,
   "metadata": {
    "collapsed": false,
    "jupyter": {
     "outputs_hidden": false
    }
   },
   "outputs": [
    {
     "name": "stdout",
     "output_type": "stream",
     "text": [
      "32.072733877455676\n"
     ]
    }
   ],
   "source": [
    "import numpy as np\n",
    "def add_column(X):\n",
    "    assert len(X.shape) == 2 and X.shape[1] == 1\n",
    "    return np.insert(X, 0, 1, axis=1)\n",
    "\n",
    "def predict(X, theta):\n",
    "    assert len(X.shape) == 2 and X.shape[1] == 1\n",
    "    assert theta.shape == (2, 1)\n",
    "    \n",
    "    X_prime = add_column(X)\n",
    "    pred = X_prime @ theta\n",
    "    return pred\n",
    "\n",
    "def loss(X, y, theta):\n",
    "    assert X.shape == (n, 1)\n",
    "    assert y.shape == (n, 1)\n",
    "    assert theta.shape == (2, 1)\n",
    "    \n",
    "    X_prime = add_column(X)\n",
    "    assert X_prime.shape == (n, 2)\n",
    "    loss = ((predict(X, theta) - y)**2).mean()/2\n",
    "    return loss\n",
    "\n",
    "theta_init = np.zeros((2, 1))\n",
    "print(loss(X, y, theta_init))"
   ]
  },
  {
   "cell_type": "markdown",
   "metadata": {},
   "source": [
    "**2.2.3** **[40pt]** GD Implementation\n",
    "\n",
    "Next, you will implement gradient descent. The loop structure has been written for you, and you only need to supply the updates to $\\theta$ within each iteration. \n",
    "\n",
    "As you program, make sure you understand what you are trying to optimize and what is being updated. Keep in mind that the cost is parameterized by the vector $\\theta$ not X and y. That is, we minimize the value of $J(\\theta)$ by changing the values of the vector $\\theta$, not by changing X or y.\n",
    "\n",
    "A good way to verify that gradient descent is working correctly is to look at the value of  and check that it is decreasing with each step. Your value of $J(\\theta)$ should never increase, and should converge to a steady value by the end of the algorithm.  Another way of making sure your gradient estimate is correct is to check it againts a [finite difference](https://en.wikipedia.org/wiki/Finite_difference) approximation.\n",
    "\n",
    "We also initialize the initial parameters to 0 and the learning rate alpha to `0.01`. "
   ]
  },
  {
   "cell_type": "code",
   "execution_count": 90,
   "metadata": {
    "collapsed": false,
    "jupyter": {
     "outputs_hidden": false
    }
   },
   "outputs": [
    {
     "name": "stdout",
     "output_type": "stream",
     "text": [
      "max grad comp error 2.5381487924747148e-05\n",
      "estimated theta value [-3.63029144  1.16636235]\n",
      "resulting loss 4.483388256587726\n"
     ]
    },
    {
     "data": {
      "image/png": "[encoded data removed]",
      "text/plain": [
       "<Figure size 640x480 with 1 Axes>"
      ]
     },
     "metadata": {},
     "output_type": "display_data"
    },
    {
     "data": {
      "image/png": "[encoded data removed]",
      "text/plain": [
       "<Figure size 640x480 with 1 Axes>"
      ]
     },
     "metadata": {},
     "output_type": "display_data"
    }
   ],
   "source": [
    "import scipy.optimize\n",
    "from functools import partial\n",
    "\n",
    "def loss_gradient(X, y, theta):\n",
    "    X_prime = add_column(X)\n",
    "    loss_grad = ((predict(X, theta) - y)*X_prime).mean(axis=0)[:, np.newaxis]\n",
    "    return loss_grad\n",
    "    \n",
    "assert loss_gradient(X, y, theta_init).shape == (2, 1)\n",
    "\n",
    "def finite_diff_grad_check(f, grad, points, eps=1e-10):\n",
    "    errs = []\n",
    "    for point in points:\n",
    "        point_errs = []\n",
    "        grad_func_val = grad(point)\n",
    "        for dim_i in range(point.shape[0]):\n",
    "            diff_v = np.zeros_like(point)\n",
    "            diff_v[dim_i] = eps\n",
    "            dim_grad = (f(point+diff_v) - f(point-diff_v))/(2*eps)\n",
    "            point_errs.append(abs(dim_grad - grad_func_val[dim_i]))\n",
    "        errs.append(point_errs)\n",
    "    return errs\n",
    "\n",
    "test_points = [np.random.rand(2, 1) for _ in range(10)]\n",
    "finite_diff_errs = finite_diff_grad_check(\n",
    "    partial(loss, X, y), partial(loss_gradient, X, y), test_points\n",
    ")\n",
    "\n",
    "print('max grad comp error', np.max(finite_diff_errs))\n",
    "assert np.max(finite_diff_errs) < 1e-3, \"grad computation error is too large\"\n",
    "\n",
    "def run_gd(loss, loss_gradient, X, y, theta_init, lr=0.01, n_iter=1500):\n",
    "    theta_current = theta_init.copy()\n",
    "    loss_values = []\n",
    "    theta_values = []\n",
    "    \n",
    "    for i in range(n_iter):\n",
    "        loss_value = loss(X, y, theta_current)\n",
    "        theta_current -= lr*loss_gradient(X, y, theta_current)\n",
    "        loss_values.append(loss_value)\n",
    "        theta_values.append(theta_current)\n",
    "        \n",
    "    return theta_current, loss_values, theta_values\n",
    "\n",
    "result = run_gd(loss, loss_gradient, X, y, theta_init)\n",
    "theta_est, loss_values, theta_values = result\n",
    "\n",
    "print('estimated theta value', theta_est.ravel())\n",
    "print('resulting loss', loss(X, y, theta_est))\n",
    "plt.ylabel('loss')\n",
    "plt.xlabel('iter_i')\n",
    "plt.plot(loss_values)\n",
    "plt.show()\n",
    "\n",
    "plt.ylabel('log(loss)')\n",
    "plt.xlabel('iter_i')\n",
    "plt.semilogy(loss_values)\n",
    "plt.show()"
   ]
  },
  {
   "cell_type": "markdown",
   "metadata": {},
   "source": [
    "**2.2.4** **[10pt]** After you are finished, use your final parameters to plot the linear fit. The result should look something like on the figure below. Use the `predict()` function."
   ]
  },
  {
   "cell_type": "code",
   "execution_count": 91,
   "metadata": {
    "collapsed": false,
    "jupyter": {
     "outputs_hidden": false
    }
   },
   "outputs": [
    {
     "data": {
      "image/png": "[encoded data removed]",
      "text/plain": [
       "<Figure size 640x480 with 1 Axes>"
      ]
     },
     "metadata": {},
     "output_type": "display_data"
    }
   ],
   "source": [
    "plt.scatter(X, y, marker='x', color='r', alpha=0.5)\n",
    "x_start, x_end = 5, 25\n",
    "plt.xlim(x_start, x_end)\n",
    "X_test = np.array([[x_start], [x_end]])\n",
    "y_test = predict(X_test, theta_est)\n",
    "plt.plot(X_test, y_test)\n",
    "plt.xlabel('Population in 10\\'000 s')\n",
    "plt.ylabel('Profit in 10\\'000$ s')\n",
    "plt.show()"
   ]
  },
  {
   "cell_type": "markdown",
   "metadata": {},
   "source": [
    "Now use your final values for $\\theta$ and the `predict()` function to make predictions on profits in areas of 35,000 and 70,000 people."
   ]
  },
  {
   "cell_type": "code",
   "execution_count": 92,
   "metadata": {
    "collapsed": false,
    "jupyter": {
     "outputs_hidden": false
    }
   },
   "outputs": [
    {
     "name": "stdout",
     "output_type": "stream",
     "text": [
      "[[40819.05197031]\n",
      " [81641.73423205]]\n"
     ]
    }
   ],
   "source": [
    "print(predict(np.array([[35000], [70000]]), theta_est))"
   ]
  },
  {
   "cell_type": "markdown",
   "metadata": {},
   "source": [
    "To understand the cost function better, you will now plot the cost over a 2-dimensional grid of values. You will not need to code anything new for this part, but you should understand how the code you have written already is creating these images."
   ]
  },
  {
   "cell_type": "code",
   "execution_count": 93,
   "metadata": {
    "collapsed": false,
    "jupyter": {
     "outputs_hidden": false
    }
   },
   "outputs": [
    {
     "name": "stdout",
     "output_type": "stream",
     "text": [
      "(100, 100) (100, 100) (100, 100)\n"
     ]
    },
    {
     "ename": "TypeError",
     "evalue": "gca() got an unexpected keyword argument 'projection'",
     "output_type": "error",
     "traceback": [
      "\u001b[1;31m---------------------------------------------------------------------------\u001b[0m",
      "\u001b[1;31mTypeError\u001b[0m                                 Traceback (most recent call last)",
      "Cell \u001b[1;32mIn [93], line 11\u001b[0m\n\u001b[0;32m      8\u001b[0m loss_test_vals_grid \u001b[38;5;241m=\u001b[39m loss_test_vals_flat\u001b[38;5;241m.\u001b[39mreshape(theta_1_grid\u001b[38;5;241m.\u001b[39mshape)\n\u001b[0;32m      9\u001b[0m \u001b[38;5;28mprint\u001b[39m(theta_1_grid\u001b[38;5;241m.\u001b[39mshape, theta_2_grid\u001b[38;5;241m.\u001b[39mshape, loss_test_vals_grid\u001b[38;5;241m.\u001b[39mshape)\n\u001b[1;32m---> 11\u001b[0m \u001b[43mplt\u001b[49m\u001b[38;5;241;43m.\u001b[39;49m\u001b[43mgca\u001b[49m\u001b[43m(\u001b[49m\u001b[43mprojection\u001b[49m\u001b[38;5;241;43m=\u001b[39;49m\u001b[38;5;124;43m'\u001b[39;49m\u001b[38;5;124;43m3d\u001b[39;49m\u001b[38;5;124;43m'\u001b[39;49m\u001b[43m)\u001b[49m\u001b[38;5;241m.\u001b[39mplot_surface(theta_1_grid, theta_2_grid, \n\u001b[0;32m     12\u001b[0m                                       loss_test_vals_grid, cmap\u001b[38;5;241m=\u001b[39mcm\u001b[38;5;241m.\u001b[39mviridis,\n\u001b[0;32m     13\u001b[0m                                       linewidth\u001b[38;5;241m=\u001b[39m\u001b[38;5;241m0\u001b[39m, antialiased\u001b[38;5;241m=\u001b[39m\u001b[38;5;28;01mFalse\u001b[39;00m)\n\u001b[0;32m     14\u001b[0m xs, ys \u001b[38;5;241m=\u001b[39m np\u001b[38;5;241m.\u001b[39mhstack(theta_values)\u001b[38;5;241m.\u001b[39mtolist()\n\u001b[0;32m     15\u001b[0m zs \u001b[38;5;241m=\u001b[39m np\u001b[38;5;241m.\u001b[39marray(loss_values)\n",
      "\u001b[1;31mTypeError\u001b[0m: gca() got an unexpected keyword argument 'projection'"
     ]
    }
   ],
   "source": [
    "from mpl_toolkits.mplot3d import Axes3D\n",
    "import matplotlib.cm as cm\n",
    "limits = [(-10, 10), (-1, 4)]\n",
    "space = [np.linspace(*limit, 100) for limit in limits]\n",
    "theta_1_grid, theta_2_grid = np.meshgrid(*space)\n",
    "theta_meshgrid = np.vstack([theta_1_grid.ravel(), theta_2_grid.ravel()])\n",
    "loss_test_vals_flat = (((add_column(X) @ theta_meshgrid - y)**2).mean(axis=0)/2)\n",
    "loss_test_vals_grid = loss_test_vals_flat.reshape(theta_1_grid.shape)\n",
    "print(theta_1_grid.shape, theta_2_grid.shape, loss_test_vals_grid.shape)\n",
    "\n",
    "plt.gca(projection='3d').plot_surface(theta_1_grid, theta_2_grid, \n",
    "                                      loss_test_vals_grid, cmap=cm.viridis,\n",
    "                                      linewidth=0, antialiased=False)\n",
    "xs, ys = np.hstack(theta_values).tolist()\n",
    "zs = np.array(loss_values)\n",
    "plt.gca(projection='3d').plot(xs, ys, zs, c='r')\n",
    "plt.xlim(*limits[0])\n",
    "plt.ylim(*limits[1])\n",
    "plt.show()\n",
    "\n",
    "plt.contour(theta_1_grid, theta_2_grid, loss_test_vals_grid, levels=np.logspace(-2, 3, 20))\n",
    "plt.plot(xs, ys)\n",
    "plt.scatter(xs, ys, alpha=0.005)\n",
    "plt.xlim(*limits[0])\n",
    "plt.ylim(*limits[1])\n",
    "plt.show()"
   ]
  },
  {
   "cell_type": "markdown",
   "metadata": {},
   "source": [
    "### 3. Linear regression with multiple input features\n",
    "\n",
    "**3.1** **[20pt]** Copy-paste your `add_column`, `predict`, `loss` and `loss grad` implementations from above and modify your code of linear regression with one variable to support any number of input features (vectorize your code.)"
   ]
  },
  {
   "cell_type": "code",
   "execution_count": null,
   "metadata": {
    "collapsed": false,
    "jupyter": {
     "outputs_hidden": false
    }
   },
   "outputs": [
    {
     "name": "stdout",
     "output_type": "stream",
     "text": [
      "(47, 2) (47, 1) 47\n",
      "[[  2.10400000e+03   3.00000000e+00]\n",
      " [  1.60000000e+03   3.00000000e+00]\n",
      " [  2.40000000e+03   3.00000000e+00]\n",
      " [  1.41600000e+03   2.00000000e+00]\n",
      " [  3.00000000e+03   4.00000000e+00]\n",
      " [  1.98500000e+03   4.00000000e+00]\n",
      " [  1.53400000e+03   3.00000000e+00]\n",
      " [  1.42700000e+03   3.00000000e+00]\n",
      " [  1.38000000e+03   3.00000000e+00]\n",
      " [  1.49400000e+03   3.00000000e+00]] \n",
      " [[ 399900.]\n",
      " [ 329900.]\n",
      " [ 369000.]\n",
      " [ 232000.]\n",
      " [ 539900.]\n",
      " [ 299900.]\n",
      " [ 314900.]\n",
      " [ 198999.]\n",
      " [ 212000.]\n",
      " [ 242500.]]\n"
     ]
    }
   ],
   "source": [
    "data = np.loadtxt('ex1data2.txt', delimiter=',')\n",
    "X, y = data[:, :-1], data[:, -1, np.newaxis]\n",
    "n = data.shape[0]\n",
    "print(X.shape, y.shape, n)\n",
    "print(X[:10], '\\n', y[:10])"
   ]
  },
  {
   "cell_type": "code",
   "execution_count": null,
   "metadata": {
    "collapsed": false,
    "jupyter": {
     "outputs_hidden": false
    }
   },
   "outputs": [
    {
     "ename": "AssertionError",
     "evalue": "",
     "output_type": "error",
     "traceback": [
      "\u001b[1;31m---------------------------------------------------------------------------\u001b[0m",
      "\u001b[1;31mAssertionError\u001b[0m                            Traceback (most recent call last)",
      "Cell \u001b[1;32mIn [61], line 30\u001b[0m\n\u001b[0;32m     26\u001b[0m     \u001b[38;5;28;01mreturn\u001b[39;00m loss_grad\n\u001b[0;32m     29\u001b[0m theta_init \u001b[38;5;241m=\u001b[39m np\u001b[38;5;241m.\u001b[39mzeros((\u001b[38;5;241m3\u001b[39m, \u001b[38;5;241m1\u001b[39m))\n\u001b[1;32m---> 30\u001b[0m result \u001b[38;5;241m=\u001b[39m \u001b[43mrun_gd\u001b[49m\u001b[43m(\u001b[49m\u001b[43mloss\u001b[49m\u001b[43m,\u001b[49m\u001b[43m \u001b[49m\u001b[43mloss_gradient\u001b[49m\u001b[43m,\u001b[49m\u001b[43m \u001b[49m\u001b[43mX\u001b[49m\u001b[43m,\u001b[49m\u001b[43m \u001b[49m\u001b[43my\u001b[49m\u001b[43m,\u001b[49m\u001b[43m \u001b[49m\u001b[43mtheta_init\u001b[49m\u001b[43m,\u001b[49m\u001b[43m \u001b[49m\u001b[43mn_iter\u001b[49m\u001b[38;5;241;43m=\u001b[39;49m\u001b[38;5;241;43m10000\u001b[39;49m\u001b[43m,\u001b[49m\u001b[43m \u001b[49m\u001b[43mlr\u001b[49m\u001b[38;5;241;43m=\u001b[39;49m\u001b[38;5;241;43m1e-10\u001b[39;49m\u001b[43m)\u001b[49m\n\u001b[0;32m     31\u001b[0m theta_est, loss_values, theta_values \u001b[38;5;241m=\u001b[39m result\n\u001b[0;32m     32\u001b[0m plt\u001b[38;5;241m.\u001b[39mplot(loss_values)\n",
      "Cell \u001b[1;32mIn [57], line 38\u001b[0m, in \u001b[0;36mrun_gd\u001b[1;34m(loss, loss_gradient, X, y, theta_init, lr, n_iter)\u001b[0m\n\u001b[0;32m     35\u001b[0m theta_values \u001b[38;5;241m=\u001b[39m []\n\u001b[0;32m     37\u001b[0m \u001b[38;5;28;01mfor\u001b[39;00m i \u001b[38;5;129;01min\u001b[39;00m \u001b[38;5;28mrange\u001b[39m(n_iter):\n\u001b[1;32m---> 38\u001b[0m     loss_value \u001b[38;5;241m=\u001b[39m \u001b[43mloss\u001b[49m\u001b[43m(\u001b[49m\u001b[43mX\u001b[49m\u001b[43m,\u001b[49m\u001b[43m \u001b[49m\u001b[43my\u001b[49m\u001b[43m,\u001b[49m\u001b[43m \u001b[49m\u001b[43mtheta_current\u001b[49m\u001b[43m)\u001b[49m\n\u001b[0;32m     39\u001b[0m     theta_current \u001b[38;5;241m-\u001b[39m\u001b[38;5;241m=\u001b[39m lr\u001b[38;5;241m*\u001b[39mloss_gradient(X, y, theta_current)\n\u001b[0;32m     40\u001b[0m     loss_values\u001b[38;5;241m.\u001b[39mappend(loss_value)\n",
      "Cell \u001b[1;32mIn [61], line 16\u001b[0m, in \u001b[0;36mloss\u001b[1;34m(X, y, theta)\u001b[0m\n\u001b[0;32m     14\u001b[0m \u001b[38;5;28;01massert\u001b[39;00m X\u001b[38;5;241m.\u001b[39mshape \u001b[38;5;241m==\u001b[39m (n, \u001b[38;5;241m1\u001b[39m)\n\u001b[0;32m     15\u001b[0m \u001b[38;5;28;01massert\u001b[39;00m y\u001b[38;5;241m.\u001b[39mshape \u001b[38;5;241m==\u001b[39m (n, \u001b[38;5;241m1\u001b[39m)\n\u001b[1;32m---> 16\u001b[0m \u001b[38;5;28;01massert\u001b[39;00m theta\u001b[38;5;241m.\u001b[39mshape \u001b[38;5;241m==\u001b[39m (\u001b[38;5;241m2\u001b[39m, \u001b[38;5;241m1\u001b[39m)\n\u001b[0;32m     18\u001b[0m X_prime \u001b[38;5;241m=\u001b[39m add_column(X)\n\u001b[0;32m     19\u001b[0m \u001b[38;5;28;01massert\u001b[39;00m X_prime\u001b[38;5;241m.\u001b[39mshape \u001b[38;5;241m==\u001b[39m (n, \u001b[38;5;241m2\u001b[39m)\n",
      "\u001b[1;31mAssertionError\u001b[0m: "
     ]
    }
   ],
   "source": [
    "def add_column(X):\n",
    "    assert len(X.shape) == 2 and X.shape[1] == 1\n",
    "    return np.insert(X, 0, 1, axis=1)\n",
    "\n",
    "def predict(X, theta):\n",
    "    assert len(X.shape) == 2 and X.shape[1] == 1\n",
    "    assert theta.shape == (2, 1)\n",
    "    \n",
    "    X_prime = add_column(X)\n",
    "    pred = X_prime @ theta\n",
    "    return pred\n",
    "\n",
    "def loss(X, y, theta):\n",
    "    assert X.shape == (n, 1)\n",
    "    assert y.shape == (n, 1)\n",
    "    assert theta.shape == (2, 1)\n",
    "    \n",
    "    X_prime = add_column(X)\n",
    "    assert X_prime.shape == (n, 2)\n",
    "    loss = ((predict(X, theta) - y)**2).mean()/2\n",
    "    return loss\n",
    "\n",
    "def loss_gradient(X, y, theta):\n",
    "    X_prime = add_column(X)\n",
    "    loss_grad = ((predict(X, theta) - y)*X_prime).mean(axis=0)[:, np.newaxis]\n",
    "    return loss_grad\n",
    "\n",
    "\n",
    "theta_init = np.zeros((3, 1))\n",
    "result = run_gd(loss, loss_gradient, X, y, theta_init, n_iter=10000, lr=1e-10)\n",
    "theta_est, loss_values, theta_values = result\n",
    "plt.plot(loss_values)\n",
    "plt.show()\n",
    "\n",
    "# raise NotImplementedError(\"Put your multivariate regression code here\")"
   ]
  },
  {
   "cell_type": "markdown",
   "metadata": {},
   "source": [
    "**3.2** **[20pt]** Draw a histogam of values for the first and second feature. Why is feature normalization important? Normalize features and re-run the gradient decent. Compare loss plots that you get with and without feature normalization."
   ]
  },
  {
   "cell_type": "code",
   "execution_count": null,
   "metadata": {
    "collapsed": false,
    "jupyter": {
     "outputs_hidden": false
    }
   },
   "outputs": [
    {
     "data": {
      "image/png": "[encoded data removed]",
      "text/plain": [
       "<Figure size 640x480 with 1 Axes>"
      ]
     },
     "metadata": {},
     "output_type": "display_data"
    },
    {
     "ename": "IndexError",
     "evalue": "index 1 is out of bounds for axis 1 with size 1",
     "output_type": "error",
     "traceback": [
      "\u001b[1;31m---------------------------------------------------------------------------\u001b[0m",
      "\u001b[1;31mIndexError\u001b[0m                                Traceback (most recent call last)",
      "Cell \u001b[1;32mIn [69], line 4\u001b[0m\n\u001b[0;32m      1\u001b[0m plt\u001b[38;5;241m.\u001b[39mhist(X[:, \u001b[38;5;241m0\u001b[39m], \u001b[38;5;241m50\u001b[39m)\n\u001b[0;32m      2\u001b[0m plt\u001b[38;5;241m.\u001b[39mshow()\n\u001b[1;32m----> 4\u001b[0m plt\u001b[38;5;241m.\u001b[39mhist(\u001b[43mX\u001b[49m\u001b[43m[\u001b[49m\u001b[43m:\u001b[49m\u001b[43m,\u001b[49m\u001b[43m \u001b[49m\u001b[38;5;241;43m1\u001b[39;49m\u001b[43m]\u001b[49m, \u001b[38;5;241m50\u001b[39m)\n\u001b[0;32m      5\u001b[0m plt\u001b[38;5;241m.\u001b[39mshow()\n",
      "\u001b[1;31mIndexError\u001b[0m: index 1 is out of bounds for axis 1 with size 1"
     ]
    }
   ],
   "source": [
    "plt.hist(X[:, 0], 50)\n",
    "plt.show()\n",
    "\n",
    "plt.hist(X[:, 1], 50)\n",
    "plt.show()\n"
   ]
  },
  {
   "cell_type": "code",
   "execution_count": null,
   "metadata": {
    "collapsed": false,
    "jupyter": {
     "outputs_hidden": false
    }
   },
   "outputs": [
    {
     "ename": "IndexError",
     "evalue": "index 1 is out of bounds for axis 1 with size 1",
     "output_type": "error",
     "traceback": [
      "\u001b[1;31m---------------------------------------------------------------------------\u001b[0m",
      "\u001b[1;31mIndexError\u001b[0m                                Traceback (most recent call last)",
      "Cell \u001b[1;32mIn [67], line 4\u001b[0m\n\u001b[0;32m      2\u001b[0m X_normed \u001b[38;5;241m=\u001b[39m np\u001b[38;5;241m.\u001b[39mzeros_like(X)\n\u001b[0;32m      3\u001b[0m X_normed[:, \u001b[38;5;241m0\u001b[39m] \u001b[38;5;241m=\u001b[39m X[:, \u001b[38;5;241m0\u001b[39m] \u001b[38;5;241m/\u001b[39m X[:, \u001b[38;5;241m0\u001b[39m]\u001b[38;5;241m.\u001b[39mmax()\n\u001b[1;32m----> 4\u001b[0m X_normed[:, \u001b[38;5;241m1\u001b[39m] \u001b[38;5;241m=\u001b[39m \u001b[43mX\u001b[49m\u001b[43m[\u001b[49m\u001b[43m:\u001b[49m\u001b[43m,\u001b[49m\u001b[43m \u001b[49m\u001b[38;5;241;43m1\u001b[39;49m\u001b[43m]\u001b[49m \u001b[38;5;241m/\u001b[39m X[:, \u001b[38;5;241m1\u001b[39m]\u001b[38;5;241m.\u001b[39mmax()\n\u001b[0;32m      5\u001b[0m result \u001b[38;5;241m=\u001b[39m run_gd(loss, loss_gradient, X_normed, y, theta_init, n_iter\u001b[38;5;241m=\u001b[39m\u001b[38;5;241m10000\u001b[39m, lr\u001b[38;5;241m=\u001b[39m\u001b[38;5;241m1e-3\u001b[39m)\n\u001b[0;32m      6\u001b[0m theta_est, loss_values, theta_values \u001b[38;5;241m=\u001b[39m result\n",
      "\u001b[1;31mIndexError\u001b[0m: index 1 is out of bounds for axis 1 with size 1"
     ]
    }
   ],
   "source": [
    "theta_init = np.zeros((3, 1))\n",
    "X_normed = np.zeros_like(X)\n",
    "X_normed[:, 0] = X[:, 0] / X[:, 0].max()\n",
    "X_normed[:, 1] = X[:, 1] / X[:, 1].max()\n",
    "result = run_gd(loss, loss_gradient, X_normed, y, theta_init, n_iter=10000, lr=1e-3)\n",
    "theta_est, loss_values, theta_values = result\n",
    "\n",
    "plt.plot(loss_values)\n",
    "plt.show()"
   ]
  },
  {
   "cell_type": "markdown",
   "metadata": {},
   "source": [
    "**3.3 [10pt]** How can we choose an appropriate learning rate? See what will happen if the learning rate is too small or too large for normalized and not normalized cases?"
   ]
  },
  {
   "cell_type": "code",
   "execution_count": null,
   "metadata": {
    "collapsed": true
   },
   "outputs": [
    {
     "ename": "TypeError",
     "evalue": "'module' object is not callable",
     "output_type": "error",
     "traceback": [
      "\u001b[1;31m---------------------------------------------------------------------------\u001b[0m",
      "\u001b[1;31mTypeError\u001b[0m                                 Traceback (most recent call last)",
      "Cell \u001b[1;32mIn [83], line 1\u001b[0m\n\u001b[1;32m----> 1\u001b[0m \u001b[43mplt\u001b[49m\u001b[43m(\u001b[49m\u001b[43mloss_gradient\u001b[49m\u001b[43m(\u001b[49m\u001b[43mX\u001b[49m\u001b[43m,\u001b[49m\u001b[43m \u001b[49m\u001b[43my\u001b[49m\u001b[43m,\u001b[49m\u001b[43m \u001b[49m\u001b[43mtheta_est\u001b[49m\u001b[43m)\u001b[49m\u001b[43m[\u001b[49m\u001b[38;5;241;43m0\u001b[39;49m\u001b[43m]\u001b[49m\u001b[43m)\u001b[49m\n",
      "\u001b[1;31mTypeError\u001b[0m: 'module' object is not callable"
     ]
    }
   ],
   "source": []
  },
  {
   "cell_type": "markdown",
   "metadata": {},
   "source": [
    "### 4. Written part\n",
    "\n",
    "These problems are extremely important preparation for the exam. Submit solutions to each problem by filling the markdown cells below.\n",
    "\n",
    "**4.1 [10 pt]** Maximum Likelihood Estimate for Coin Toss\n",
    "\n",
    "The probability distribution of a single binary variable  that takes value  with probability  is given by the Bernoulli distribution\n",
    "\n",
    "$$ \\operatorname{Bern}(x|\\mu) = \\mu^x (1-\\mu)^{1-x}$$\n",
    "\n",
    "For example, we can use it to model the probability of seeing ‘heads’ ($x=1$) or ‘tails’ ($x=0$) after tossing a coin, with $\\mu$ being the probability of seeing ‘heads’. Suppose we have a dataset of independent coin flips $D = \\{ x^{(1)} , \\dots, x^{(m)} \\}$ and we would like to estimate $\\mu$ using Maximum Likelihood. Recall that we can write down the likelihood function as\n",
    "\n",
    "$$\\mathcal L (x^{(i)}|\\mu) = \\mu^{x^{(i)}} (1-\\mu)^{1-{x^{(i)}}}$$\n",
    "\n",
    "$$ P(D|\\mu) = \\prod_i \\mathcal L (x^{(i)}|\\mu)$$\n",
    "\n",
    "The log of the likelihood function is\n",
    "\n",
    "$$ \\ln P(D|\\mu) = \\sum_i x^{(i)} \\ln \\mu + (1-x^{(i)})\\ln(1-\\mu)$$\n",
    "\n",
    "Show that the ML solution for $\\mu$ is given by  $\\mu_{ML} = \\frac{h}{m}$  where $h$ is the total number of ‘heads’ in the dataset. Show all of your steps."
   ]
  },
  {
   "cell_type": "markdown",
   "metadata": {},
   "source": [
    "<font color=\"blue\"> Take the derivative of $$ \\ln P(D|\\mu) $$, we derive\n",
    "<font color=\"blue\"> $$ \\frac{d}{d\\mu}\\ln P(D|\\mu) = \\sum_{i=1}^m x^{(i)} \\ln \\mu + (1-x^{(i)})\\ln(1-\\mu) = 0$$, then simplify it to\n",
    "<font color=\"blue\"> $$ \\sum_{i=1}^m x^{(i)} \\frac{1}{\\mu} + (x^{(i)}-1)\\frac{1}{ln(1-\\mu)} = 0$$, therefore we get\n",
    "<font color=\"blue\"> $$ \\sum_{i=1}^m x^{(i)} \\frac{1}{\\mu} = \\sum_{i=1}^m (1-x^{(i)})\\frac{1}{ln(1-\\mu)}. $$ By substitution, \n",
    "<font color=\"blue\"> $$ \\frac{h}{\\mu} = \\frac{m - h}{1 - \\mu}. $$ In conclusion,\n",
    "<font color=\"blue\"> $$ \\mu_{ML} = \\frac{h}{m}. $$"
   ]
  },
  {
   "cell_type": "markdown",
   "metadata": {},
   "source": [
    "**4.2 [10 pt]** Localized linear regression\n",
    "\n",
    "Suppose we want to estimate localized linear regression by weighting the contribution of the data points by their distance to the query point $x_q$, i.e. using the cost\n",
    "\n",
    "$$ E(x_q) = \\frac{1}{2}\\sum_i^m \\frac{(y^{(i)}-h(x^{(i)}|\\theta))^2}{|| x^{(i)} - x_q ||^2}$$\n",
    "\n",
    "where $\\frac{1}{|| x^{(i)} - x_q ||} = w^{(i)}$ is the inverse Euclidean distance between the training point $x^{(i)}$ and query (test) point $x_q$.\n",
    "\n",
    "Derive the modified normal equations for the above cost function $E(x_q)$. Hint: first, re-write the cost function in matrix/vector notation, using a diagonal matrix to represent the weights $w^{(i)}$."
   ]
  },
  {
   "cell_type": "markdown",
   "metadata": {},
   "source": [
    "<font color=\"blue\"> Matrix/vector notation: $$ E(x_q) = \\frac{1}{2}\\sum_{i=1}^m (y^{(i)}-\\theta^{\\pmb{T}} x^{(i)})^2 ({w^{(i)}})^2.$$ Then simplify it:\n",
    "<font color=\"blue\"> $$ E(x_q) = \\frac{1}{2}\\sum_{i=1}^m (w^{(i)} y^{(i)} - w^{(i)} \\theta^{\\pmb{T}} x^{(i)})^2 = ({\\pmb{WY}}-{\\pmb{WX \\theta}})^2.$$"
   ]
  },
  {
   "cell_type": "markdown",
   "metadata": {},
   "source": [
    "**4.3 [10 pt]** Betting on Trick Coins\n",
    "\n",
    "A game is played with three coins in a jar: one is a normal coin, one has “heads” on both sides, one has “tails” on both sides. All coins are “fair”, i.e. have equal probability of landing on either side. Suppose one coin is picked randomly from the jar and tossed, and lands with “heads” on top. What is the probability that the bottom side is also “heads”? Show all your steps. "
   ]
  },
  {
   "cell_type": "markdown",
   "metadata": {},
   "source": [
    "<font color=\"blue\"> $$ p(bottom-head | top-head) = \\frac{p(bottom-head-and-top-head)}{p(top-head)}$$\n",
    "<font color=\"blue\"> $$ = \\frac{p(bottom-head-and-top-head)}{p(top-head|head-head) p(head-head) + p(top-head|tail-head) p(tail-head) + p(top-head|tail-tail) p(tail-tail)} $$\n",
    "<font color=\"blue\"> $$ = \\frac{\\frac{1}{3}}{\\frac{1}{3}*1 + \\frac{1}{3}*0 +\\frac{1}{3}*\\frac{1}{2}} $$\n",
    "<font color=\"blue\"> $$ = \\frac{2}{3} $$"
   ]
  }
 ],
 "metadata": {
  "anaconda-cloud": {},
  "kernelspec": {
   "display_name": "Python 3.10.4 64-bit",
   "language": "python",
   "name": "python3"
  },
  "language_info": {
   "codemirror_mode": {
    "name": "ipython",
    "version": 3
   },
   "file_extension": ".py",
   "mimetype": "text/x-python",
   "name": "python",
   "nbconvert_exporter": "python",
   "pygments_lexer": "ipython3",
   "version": "3.10.4"
  },
  "vscode": {
   "interpreter": {
    "hash": "b4253f428f5364c0d0cf4aa6d17a61e4cb211d6be69cbbce45e0b8cfcfffc903"
   }
  }
 },
 "nbformat": 4,
 "nbformat_minor": 0
}
